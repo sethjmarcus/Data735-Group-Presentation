{
 "cells": [
  {
   "cell_type": "code",
   "execution_count": 7,
   "metadata": {},
   "outputs": [],
   "source": [
    "import numpy as np\n",
    "import pandas as pd"
   ]
  },
  {
   "cell_type": "code",
   "execution_count": 8,
   "metadata": {},
   "outputs": [],
   "source": [
    "rng = np.random.default_rng()\n",
    "train_data = pd.DataFrame(rng.integers(1, 11, size=(10000, 11)), columns=[\"Is safe from accidents\",\"Has comftarble seating\",\"Gives me the ability to work read and sleep\",\"Is relaxing\",\"Is mostly on time\",\"Can interact with tohers\",\"Is clean\",\"Is good for the environment\",\"Is a good value for the money\",\"Is convienent to use\", \"Overall Rating\"])\n",
    "car_data = pd.DataFrame(rng.integers(1, 11, size=(10000, 11)), columns=[\"Is safe from accidents\",\"Has comftarble seating\",\"Gives me the ability to work read and sleep\",\"Is relaxing\",\"Is mostly on time\",\"Can interact with tohers\",\"Is clean\",\"Is good for the environment\",\"Is a good value for the money\",\"Is convienent to use\", \"Overall Rating\"])"
   ]
  },
  {
   "cell_type": "code",
   "execution_count": 9,
   "metadata": {},
   "outputs": [],
   "source": [
    "train_data.to_csv('./train_data.csv', index=False)"
   ]
  },
  {
   "cell_type": "code",
   "execution_count": 10,
   "metadata": {},
   "outputs": [],
   "source": [
    "car_data.to_csv('./car_data.csv', index=False)"
   ]
  },
  {
   "cell_type": "code",
   "execution_count": null,
   "metadata": {},
   "outputs": [],
   "source": []
  }
 ],
 "metadata": {
  "interpreter": {
   "hash": "916dbcbb3f70747c44a77c7bcd40155683ae19c65e1c03b4aa3499c5328201f1"
  },
  "kernelspec": {
   "display_name": "Python 3 (ipykernel)",
   "language": "python",
   "name": "python3"
  },
  "language_info": {
   "codemirror_mode": {
    "name": "ipython",
    "version": 3
   },
   "file_extension": ".py",
   "mimetype": "text/x-python",
   "name": "python",
   "nbconvert_exporter": "python",
   "pygments_lexer": "ipython3",
   "version": "3.8.10"
  }
 },
 "nbformat": 4,
 "nbformat_minor": 2
}
